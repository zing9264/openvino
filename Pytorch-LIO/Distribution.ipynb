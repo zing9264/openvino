{
 "cells": [
  {
   "cell_type": "code",
   "execution_count": 1,
   "id": "123e8114",
   "metadata": {},
   "outputs": [],
   "source": [
    "import warnings\n",
    "import pandas as pd\n",
    "import seaborn as sns\n",
    "import matplotlib.pyplot as plt\n",
    "warnings.filterwarnings(\"ignore\")"
   ]
  },
  {
   "cell_type": "code",
   "execution_count": 2,
   "id": "5c61393f",
   "metadata": {},
   "outputs": [
    {
     "data": {
      "image/png": "[encoded data removed]",
      "text/plain": [
       "<Figure size 1080x360 with 1 Axes>"
      ]
     },
     "metadata": {
      "needs_background": "light"
     },
     "output_type": "display_data"
    },
    {
     "data": {
      "text/plain": [
       "(7208, 4)"
      ]
     },
     "metadata": {},
     "output_type": "display_data"
    }
   ],
   "source": [
    "plt.figure(figsize=(15,5))\n",
    "df_train = pd.read_csv(\"training.csv\")\n",
    "sns.countplot('label', data=df_train)\n",
    "plt.show()\n",
    "display(df_train.shape)"
   ]
  },
  {
   "cell_type": "code",
   "execution_count": 3,
   "id": "b9ab4958",
   "metadata": {},
   "outputs": [
    {
     "data": {
      "text/plain": [
       "orig_path    0\n",
       "label        0\n",
       "index        0\n",
       "ImagePath    0\n",
       "dtype: int64"
      ]
     },
     "metadata": {},
     "output_type": "display_data"
    },
    {
     "data": {
      "text/html": [
       "<div>\n",
       "<style scoped>\n",
       "    .dataframe tbody tr th:only-of-type {\n",
       "        vertical-align: middle;\n",
       "    }\n",
       "\n",
       "    .dataframe tbody tr th {\n",
       "        vertical-align: top;\n",
       "    }\n",
       "\n",
       "    .dataframe thead th {\n",
       "        text-align: right;\n",
       "    }\n",
       "</style>\n",
       "<table border=\"1\" class=\"dataframe\">\n",
       "  <thead>\n",
       "    <tr style=\"text-align: right;\">\n",
       "      <th></th>\n",
       "      <th>orig_path</th>\n",
       "      <th>label</th>\n",
       "      <th>index</th>\n",
       "      <th>ImagePath</th>\n",
       "    </tr>\n",
       "  </thead>\n",
       "  <tbody>\n",
       "    <tr>\n",
       "      <th>0</th>\n",
       "      <td>Kvasir v2/normal-cecum/normal-cecum/8ea05ad6-2...</td>\n",
       "      <td>normal-cecum</td>\n",
       "      <td>1</td>\n",
       "      <td>00001.jpg</td>\n",
       "    </tr>\n",
       "    <tr>\n",
       "      <th>1</th>\n",
       "      <td>Kvasir v2/polyps/polyps/e4e4a647-2dce-48f6-9a7...</td>\n",
       "      <td>polyps</td>\n",
       "      <td>3</td>\n",
       "      <td>00002.jpg</td>\n",
       "    </tr>\n",
       "    <tr>\n",
       "      <th>2</th>\n",
       "      <td>Kvasir v2/ulcerative-colitis/ulcerative-coliti...</td>\n",
       "      <td>ulcerative-colitis</td>\n",
       "      <td>5</td>\n",
       "      <td>00003.jpg</td>\n",
       "    </tr>\n",
       "    <tr>\n",
       "      <th>3</th>\n",
       "      <td>Kvasir v2/normal/normal/case_M_20181016094928_...</td>\n",
       "      <td>normal</td>\n",
       "      <td>9</td>\n",
       "      <td>00004.jpg</td>\n",
       "    </tr>\n",
       "    <tr>\n",
       "      <th>4</th>\n",
       "      <td>Kvasir v2/normal/normal/case_M_20190107093607_...</td>\n",
       "      <td>normal</td>\n",
       "      <td>9</td>\n",
       "      <td>00005.jpg</td>\n",
       "    </tr>\n",
       "  </tbody>\n",
       "</table>\n",
       "</div>"
      ],
      "text/plain": [
       "                                           orig_path               label  \\\n",
       "0  Kvasir v2/normal-cecum/normal-cecum/8ea05ad6-2...        normal-cecum   \n",
       "1  Kvasir v2/polyps/polyps/e4e4a647-2dce-48f6-9a7...              polyps   \n",
       "2  Kvasir v2/ulcerative-colitis/ulcerative-coliti...  ulcerative-colitis   \n",
       "3  Kvasir v2/normal/normal/case_M_20181016094928_...              normal   \n",
       "4  Kvasir v2/normal/normal/case_M_20190107093607_...              normal   \n",
       "\n",
       "   index  ImagePath  \n",
       "0      1  00001.jpg  \n",
       "1      3  00002.jpg  \n",
       "2      5  00003.jpg  \n",
       "3      9  00004.jpg  \n",
       "4      9  00005.jpg  "
      ]
     },
     "execution_count": 3,
     "metadata": {},
     "output_type": "execute_result"
    }
   ],
   "source": [
    "display(df_train.isnull().sum())\n",
    "df_train.head()"
   ]
  },
  {
   "cell_type": "code",
   "execution_count": 4,
   "id": "c8c4f0f9",
   "metadata": {},
   "outputs": [
    {
     "data": {
      "image/png": "[encoded data removed]",
      "text/plain": [
       "<Figure size 1080x360 with 1 Axes>"
      ]
     },
     "metadata": {
      "needs_background": "light"
     },
     "output_type": "display_data"
    },
    {
     "data": {
      "text/plain": [
       "(1802, 4)"
      ]
     },
     "metadata": {},
     "output_type": "display_data"
    }
   ],
   "source": [
    "plt.figure(figsize=(15,5))\n",
    "df_valid = pd.read_csv(\"validation.csv\")\n",
    "sns.countplot('label', data=df_valid)\n",
    "plt.show()\n",
    "display(df_valid.shape)"
   ]
  },
  {
   "cell_type": "code",
   "execution_count": 5,
   "id": "d7529da3",
   "metadata": {},
   "outputs": [
    {
     "data": {
      "text/plain": [
       "orig_path    0\n",
       "label        0\n",
       "index        0\n",
       "ImagePath    0\n",
       "dtype: int64"
      ]
     },
     "metadata": {},
     "output_type": "display_data"
    },
    {
     "data": {
      "text/html": [
       "<div>\n",
       "<style scoped>\n",
       "    .dataframe tbody tr th:only-of-type {\n",
       "        vertical-align: middle;\n",
       "    }\n",
       "\n",
       "    .dataframe tbody tr th {\n",
       "        vertical-align: top;\n",
       "    }\n",
       "\n",
       "    .dataframe thead th {\n",
       "        text-align: right;\n",
       "    }\n",
       "</style>\n",
       "<table border=\"1\" class=\"dataframe\">\n",
       "  <thead>\n",
       "    <tr style=\"text-align: right;\">\n",
       "      <th></th>\n",
       "      <th>orig_path</th>\n",
       "      <th>label</th>\n",
       "      <th>index</th>\n",
       "      <th>ImagePath</th>\n",
       "    </tr>\n",
       "  </thead>\n",
       "  <tbody>\n",
       "    <tr>\n",
       "      <th>0</th>\n",
       "      <td>Kvasir v2/ulcerative-colitis/ulcerative-coliti...</td>\n",
       "      <td>ulcerative-colitis</td>\n",
       "      <td>5</td>\n",
       "      <td>00001.jpg</td>\n",
       "    </tr>\n",
       "    <tr>\n",
       "      <th>1</th>\n",
       "      <td>Kvasir v2/normal/normal/case_M_20181016094928_...</td>\n",
       "      <td>normal</td>\n",
       "      <td>9</td>\n",
       "      <td>00002.jpg</td>\n",
       "    </tr>\n",
       "    <tr>\n",
       "      <th>2</th>\n",
       "      <td>Kvasir v2/normal-z-line/normal-z-line/b50ca54a...</td>\n",
       "      <td>normal-z-line</td>\n",
       "      <td>2</td>\n",
       "      <td>00003.jpg</td>\n",
       "    </tr>\n",
       "    <tr>\n",
       "      <th>3</th>\n",
       "      <td>Kvasir v2/esophagitis/esophagitis/7f58f897-cb6...</td>\n",
       "      <td>esophagitis</td>\n",
       "      <td>8</td>\n",
       "      <td>00004.jpg</td>\n",
       "    </tr>\n",
       "    <tr>\n",
       "      <th>4</th>\n",
       "      <td>Kvasir v2/dyed-resection-margins/dyed-resectio...</td>\n",
       "      <td>dyed-resection-margins</td>\n",
       "      <td>6</td>\n",
       "      <td>00005.jpg</td>\n",
       "    </tr>\n",
       "  </tbody>\n",
       "</table>\n",
       "</div>"
      ],
      "text/plain": [
       "                                           orig_path                   label  \\\n",
       "0  Kvasir v2/ulcerative-colitis/ulcerative-coliti...      ulcerative-colitis   \n",
       "1  Kvasir v2/normal/normal/case_M_20181016094928_...                  normal   \n",
       "2  Kvasir v2/normal-z-line/normal-z-line/b50ca54a...           normal-z-line   \n",
       "3  Kvasir v2/esophagitis/esophagitis/7f58f897-cb6...             esophagitis   \n",
       "4  Kvasir v2/dyed-resection-margins/dyed-resectio...  dyed-resection-margins   \n",
       "\n",
       "   index  ImagePath  \n",
       "0      5  00001.jpg  \n",
       "1      9  00002.jpg  \n",
       "2      2  00003.jpg  \n",
       "3      8  00004.jpg  \n",
       "4      6  00005.jpg  "
      ]
     },
     "execution_count": 5,
     "metadata": {},
     "output_type": "execute_result"
    }
   ],
   "source": [
    "display(df_valid.isnull().sum())\n",
    "df_valid.head()"
   ]
  },
  {
   "cell_type": "code",
   "execution_count": 6,
   "id": "10c06055",
   "metadata": {},
   "outputs": [
    {
     "data": {
      "image/png": "[encoded data removed]",
      "text/plain": [
       "<Figure size 1080x360 with 1 Axes>"
      ]
     },
     "metadata": {
      "needs_background": "light"
     },
     "output_type": "display_data"
    },
    {
     "data": {
      "text/plain": [
       "(1590, 4)"
      ]
     },
     "metadata": {},
     "output_type": "display_data"
    }
   ],
   "source": [
    "plt.figure(figsize=(15,5))\n",
    "df_test = pd.read_csv(\"testing.csv\")\n",
    "sns.countplot('label', data=df_test)\n",
    "plt.show()\n",
    "display(df_test.shape)"
   ]
  },
  {
   "cell_type": "code",
   "execution_count": 7,
   "id": "2ce46cf0",
   "metadata": {},
   "outputs": [
    {
     "data": {
      "text/plain": [
       "orig_path    0\n",
       "label        0\n",
       "index        0\n",
       "ImagePath    0\n",
       "dtype: int64"
      ]
     },
     "metadata": {},
     "output_type": "display_data"
    },
    {
     "data": {
      "text/html": [
       "<div>\n",
       "<style scoped>\n",
       "    .dataframe tbody tr th:only-of-type {\n",
       "        vertical-align: middle;\n",
       "    }\n",
       "\n",
       "    .dataframe tbody tr th {\n",
       "        vertical-align: top;\n",
       "    }\n",
       "\n",
       "    .dataframe thead th {\n",
       "        text-align: right;\n",
       "    }\n",
       "</style>\n",
       "<table border=\"1\" class=\"dataframe\">\n",
       "  <thead>\n",
       "    <tr style=\"text-align: right;\">\n",
       "      <th></th>\n",
       "      <th>orig_path</th>\n",
       "      <th>label</th>\n",
       "      <th>index</th>\n",
       "      <th>ImagePath</th>\n",
       "    </tr>\n",
       "  </thead>\n",
       "  <tbody>\n",
       "    <tr>\n",
       "      <th>0</th>\n",
       "      <td>Kvasir v2/polyps/polyps/79dc9bef-366a-45af-b9d...</td>\n",
       "      <td>polyps</td>\n",
       "      <td>3</td>\n",
       "      <td>00001.jpg</td>\n",
       "    </tr>\n",
       "    <tr>\n",
       "      <th>1</th>\n",
       "      <td>Kvasir v2/normal/normal/case_M_20181206100003_...</td>\n",
       "      <td>normal</td>\n",
       "      <td>9</td>\n",
       "      <td>00002.jpg</td>\n",
       "    </tr>\n",
       "    <tr>\n",
       "      <th>2</th>\n",
       "      <td>Kvasir v2/normal-pylorus/normal-pylorus/d76fe3...</td>\n",
       "      <td>normal-pylorus</td>\n",
       "      <td>7</td>\n",
       "      <td>00003.jpg</td>\n",
       "    </tr>\n",
       "    <tr>\n",
       "      <th>3</th>\n",
       "      <td>Kvasir v2/normal/normal/case_M_20181211141049_...</td>\n",
       "      <td>normal</td>\n",
       "      <td>9</td>\n",
       "      <td>00004.jpg</td>\n",
       "    </tr>\n",
       "    <tr>\n",
       "      <th>4</th>\n",
       "      <td>Kvasir v2/normal-z-line/normal-z-line/bfe0b244...</td>\n",
       "      <td>normal-z-line</td>\n",
       "      <td>2</td>\n",
       "      <td>00005.jpg</td>\n",
       "    </tr>\n",
       "  </tbody>\n",
       "</table>\n",
       "</div>"
      ],
      "text/plain": [
       "                                           orig_path           label  index  \\\n",
       "0  Kvasir v2/polyps/polyps/79dc9bef-366a-45af-b9d...          polyps      3   \n",
       "1  Kvasir v2/normal/normal/case_M_20181206100003_...          normal      9   \n",
       "2  Kvasir v2/normal-pylorus/normal-pylorus/d76fe3...  normal-pylorus      7   \n",
       "3  Kvasir v2/normal/normal/case_M_20181211141049_...          normal      9   \n",
       "4  Kvasir v2/normal-z-line/normal-z-line/bfe0b244...   normal-z-line      2   \n",
       "\n",
       "   ImagePath  \n",
       "0  00001.jpg  \n",
       "1  00002.jpg  \n",
       "2  00003.jpg  \n",
       "3  00004.jpg  \n",
       "4  00005.jpg  "
      ]
     },
     "execution_count": 7,
     "metadata": {},
     "output_type": "execute_result"
    }
   ],
   "source": [
    "display(df_test.isnull().sum())\n",
    "df_test.head()"
   ]
  }
 ],
 "metadata": {
  "kernelspec": {
   "display_name": "Python 3",
   "language": "python",
   "name": "python3"
  },
  "language_info": {
   "codemirror_mode": {
    "name": "ipython",
    "version": 3
   },
   "file_extension": ".py",
   "mimetype": "text/x-python",
   "name": "python",
   "nbconvert_exporter": "python",
   "pygments_lexer": "ipython3",
   "version": "3.8.5"
  }
 },
 "nbformat": 4,
 "nbformat_minor": 5
}
